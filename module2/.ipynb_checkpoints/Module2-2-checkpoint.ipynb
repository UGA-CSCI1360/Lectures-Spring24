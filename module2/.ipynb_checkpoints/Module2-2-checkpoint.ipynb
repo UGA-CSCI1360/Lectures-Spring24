{
 "cells": [
  {
   "cell_type": "markdown",
   "id": "265529dd",
   "metadata": {
    "slideshow": {
     "slide_type": "slide"
    }
   },
   "source": [
    "# CSCI1360 - Module 2.2\n",
    "\n",
    "## Introduction to Python\n",
    "\n",
    "### Overview and Objectives"
   ]
  },
  {
   "cell_type": "markdown",
   "id": "e3e07eed",
   "metadata": {},
   "source": [
    "- Understand variables usage and their types\n",
    "- Learn naming restrictions in Python\n",
    "- Learn how to cast between data types"
   ]
  },
  {
   "cell_type": "markdown",
   "id": "4c0edf0b",
   "metadata": {
    "slideshow": {
     "slide_type": "slide"
    }
   },
   "source": [
    "### Variables\n",
    "\n",
    "- A variable is a name for a memory area used to store some value\n",
    "\n",
    "- Values stored in variables could vary in their date types\n",
    "\n",
    "- Data types: Integer, Float, String\n",
    "\n",
    "***Examples***\n",
    "\n",
    "`grade = 95`\n",
    "\n",
    "`pi = 3.14159265`\n",
    "\n",
    "`first_name = 'John'`"
   ]
  },
  {
   "cell_type": "markdown",
   "id": "85fdd580",
   "metadata": {
    "slideshow": {
     "slide_type": "slide"
    }
   },
   "source": [
    "Variables can store the result of an arithmetic operation\n",
    "\n",
    "**Example**"
   ]
  },
  {
   "cell_type": "code",
   "execution_count": 1,
   "id": "1dcac9c2",
   "metadata": {},
   "outputs": [
    {
     "name": "stdout",
     "output_type": "stream",
     "text": [
      "6\n",
      "3\n",
      "2.0\n"
     ]
    }
   ],
   "source": [
    "# Storeing the result of an arithmetic operation in variable x\n",
    "x = 2 * 3\n",
    "\n",
    "# Assign 3 to y\n",
    "y = 3\n",
    "\n",
    "# Divide x by y and store the result in z\n",
    "z = x / y\n",
    "\n",
    "# Now lets print the values\n",
    "print(x)\n",
    "print(y)\n",
    "print(z)"
   ]
  },
  {
   "cell_type": "markdown",
   "id": "3919eb9b",
   "metadata": {
    "slideshow": {
     "slide_type": "slide"
    }
   },
   "source": [
    "**More Examples**"
   ]
  },
  {
   "cell_type": "code",
   "execution_count": 2,
   "id": "e41be4de",
   "metadata": {
    "slideshow": {
     "slide_type": "-"
    }
   },
   "outputs": [],
   "source": [
    "# More examples\n",
    "# Adding 2 to a variable value then store the result in x \n",
    "x = y + 2\n",
    "\n",
    "# Incrementing y by 1\n",
    "y = y + 1\n",
    "\n",
    "# Another way to increment y by 1\n",
    "y += 1\n",
    "\n",
    "# Decrement z by 2\n",
    "z -= 2\n"
   ]
  },
  {
   "cell_type": "code",
   "execution_count": 3,
   "id": "109ee200",
   "metadata": {
    "slideshow": {
     "slide_type": "slide"
    }
   },
   "outputs": [
    {
     "name": "stdout",
     "output_type": "stream",
     "text": [
      "5 5 0.0\n",
      "5 * 5 * 0.0\n"
     ]
    }
   ],
   "source": [
    "# Another way to print multiple values\n",
    "print(x, y, z)\n",
    "\n",
    "# Using print to format the output\n",
    "separator = '*'\n",
    "print(x, separator, y, separator, z)"
   ]
  },
  {
   "cell_type": "markdown",
   "id": "23057b27",
   "metadata": {
    "slideshow": {
     "slide_type": "slide"
    }
   },
   "source": [
    "**The String Data Type**\n",
    "\n",
    "In Python, a string is a sequence of characters enclosed within either single quotes (' ') or double quotes (\" \")\n",
    "\n",
    "**Example**"
   ]
  },
  {
   "cell_type": "code",
   "execution_count": 4,
   "id": "75837eaa",
   "metadata": {},
   "outputs": [
    {
     "name": "stdout",
     "output_type": "stream",
     "text": [
      "The first name is:\n",
      "John\n"
     ]
    }
   ],
   "source": [
    "# Directly use a string value as an input in the print function\n",
    "print('The first name is:')\n",
    "\n",
    "# Using the variable as an input for print\n",
    "first_name = 'John'\n",
    "print(first_name)\n"
   ]
  },
  {
   "cell_type": "markdown",
   "id": "bbebb4f3",
   "metadata": {
    "slideshow": {
     "slide_type": "slide"
    }
   },
   "source": [
    "**More String Examples**"
   ]
  },
  {
   "cell_type": "code",
   "execution_count": 5,
   "id": "19750f35",
   "metadata": {},
   "outputs": [
    {
     "name": "stdout",
     "output_type": "stream",
     "text": [
      "John\n",
      "Smith\n",
      "John Smith\n"
     ]
    }
   ],
   "source": [
    "# A string of multipel words\n",
    "full_name = 'John Smith'\n",
    "\n",
    "# Concatenating multiple string values\n",
    "full_name = 'John' + ' ' + 'Smith'\n",
    "\n",
    "# Using douple quotes\n",
    "last_name = \"Smith\"\n",
    "\n",
    "# Concatenation using variables and literals\n",
    "full_name = first_name + ' ' + last_name\n",
    "\n",
    "print(first_name)\n",
    "print(last_name)\n",
    "print(full_name)"
   ]
  },
  {
   "cell_type": "markdown",
   "id": "70b3ed0b",
   "metadata": {
    "slideshow": {
     "slide_type": "slide"
    }
   },
   "source": [
    "## The `type()` Function\n",
    "\n",
    "- Returns the data type of the input\n",
    "- Does not pass the returned result to the output screen\n",
    "\n",
    "**Examples**"
   ]
  },
  {
   "cell_type": "code",
   "execution_count": 6,
   "id": "e624124b",
   "metadata": {},
   "outputs": [
    {
     "name": "stdout",
     "output_type": "stream",
     "text": [
      "<class 'int'>\n",
      "<class 'float'>\n",
      "<class 'str'>\n",
      "<class 'str'>\n"
     ]
    }
   ],
   "source": [
    "# Does not print anything\n",
    "type(1)\n",
    "\n",
    "# Showing output starts here\n",
    "print( type(1) )\n",
    "print( type(5.0) )\n",
    "print( type('John') )\n",
    "print( type('5.0') )\n"
   ]
  },
  {
   "cell_type": "markdown",
   "id": "21fc242e",
   "metadata": {},
   "source": [
    "Notice the difference between the types in `type( 5.0 )` and `type('5.0' )`"
   ]
  },
  {
   "cell_type": "code",
   "execution_count": 7,
   "id": "f81d4e5e",
   "metadata": {
    "slideshow": {
     "slide_type": "slide"
    }
   },
   "outputs": [
    {
     "name": "stdout",
     "output_type": "stream",
     "text": [
      "<class 'float'>\n"
     ]
    }
   ],
   "source": [
    "# Any division operation result is a float value\n",
    "# Even if the remainder is zero\n",
    "print( type(4 / 2) )"
   ]
  },
  {
   "cell_type": "markdown",
   "id": "fc07cfd3",
   "metadata": {
    "slideshow": {
     "slide_type": "slide"
    }
   },
   "source": [
    "**What happens when combining different data types in one operation**\n",
    "\n",
    "`print(5 + 7.5)`\n",
    "\n",
    "`print(\"5\" + 7.5)`"
   ]
  },
  {
   "cell_type": "markdown",
   "id": "a5624458",
   "metadata": {
    "slideshow": {
     "slide_type": "slide"
    }
   },
   "source": [
    "### Dynamic Typing\n",
    "\n",
    "- Python is dynamically typed\n",
    "- Eliminating the need to explicitly mention the variable type during its definition\n",
    "- Python intelligently deduces the type from your definition and usage of the variable\n",
    "- Unlike Python, languages such as C++ and Java follow a statically typed approach\n",
    "- This entails that when declaring a variable, the programmer not only assigns a name but must also expressly specify the variable's type"
   ]
  },
  {
   "cell_type": "markdown",
   "id": "8afa6273",
   "metadata": {
    "slideshow": {
     "slide_type": "slide"
    }
   },
   "source": [
    "**Dynamic Typing Pros**\n",
    "\n",
    "- Flexibility in coding\n",
    "- Readability\n",
    "- Rapid Prototyping: Developers can quickly iterate and test ideas\n",
    "\n",
    "**Dynamic Typing Cons**\n",
    "\n",
    "- Runtime Errors because of type mismatch\n",
    "- Performance Overheads: Interpreter needs to determine types\n",
    "- Extended Documentation Needed"
   ]
  },
  {
   "cell_type": "markdown",
   "id": "81436daa",
   "metadata": {
    "slideshow": {
     "slide_type": "slide"
    }
   },
   "source": [
    "### Casting \n",
    "\n",
    "You can explicitly cast a variable to a different data type.\n",
    "\n",
    "You can use construction functions for casting.\n",
    "\n",
    "- `int( VALUE )`\n",
    "- `float( VALUE )`\n",
    "- `str( VALUE )`\n",
    "\n",
    "**Examples**\n",
    "\n",
    "`height = float('5.5')`\n",
    "\n",
    "`weight = str(100) + 'lbs'`"
   ]
  },
  {
   "cell_type": "markdown",
   "id": "db15394c",
   "metadata": {
    "slideshow": {
     "slide_type": "slide"
    }
   },
   "source": [
    "### Naming and Using Variables\n",
    "\n",
    "- Variable names can contain only letters, numbers, and underscores\n",
    "- They can start with a letter or an underscore, but not with a number\n",
    "- For instance, you can call a variable `message_1` but not `1_message`\n",
    "- Underscores can be used to separate words in variable names\n",
    "- Avoid using Python keywords and function names as variable names\n",
    "- For example, do not use the word *print* as a variable name\n",
    "- Variable names should be short but descriptive\n",
    "- For example, `student_name` is better than `s_n`"
   ]
  },
  {
   "cell_type": "markdown",
   "id": "08aac3e3",
   "metadata": {
    "slideshow": {
     "slide_type": "slide"
    }
   },
   "source": [
    "**Multiple Assignment**\n",
    "\n",
    "You can assign values to more than one variable using just a single line of code\n",
    "\n",
    "`x, y, z = 0, 0, 0`\n",
    "\n",
    "**Underscores in Numbers**\n",
    "\n",
    "You can use underscores to make large numbers more readable\n",
    "\n",
    "`universe_age = 14_000_000_000`"
   ]
  },
  {
   "cell_type": "markdown",
   "id": "7afdff98",
   "metadata": {
    "slideshow": {
     "slide_type": "slide"
    }
   },
   "source": [
    "### Comparison Operators and Boolean Data Type\n",
    "\n",
    "Comparison Operators\n",
    "\n",
    "- `>` greater than\n",
    "- `<` less than\n",
    "- `>=` greater than or equal\n",
    "- `<=` less than or equal\n",
    "- `==` equal\n",
    "- `!=` not equal\n",
    "\n",
    "* Comparison result can be either `True` or `False` and stored with a Boolean data type"
   ]
  },
  {
   "cell_type": "markdown",
   "id": "b2ea9203",
   "metadata": {
    "slideshow": {
     "slide_type": "slide"
    }
   },
   "source": [
    "**Examples**"
   ]
  },
  {
   "cell_type": "code",
   "execution_count": 8,
   "id": "53846297",
   "metadata": {},
   "outputs": [
    {
     "name": "stdout",
     "output_type": "stream",
     "text": [
      "True\n"
     ]
    }
   ],
   "source": [
    "print(5 > 2)"
   ]
  },
  {
   "cell_type": "code",
   "execution_count": 9,
   "id": "f998b336",
   "metadata": {},
   "outputs": [
    {
     "name": "stdout",
     "output_type": "stream",
     "text": [
      "<class 'bool'>\n"
     ]
    }
   ],
   "source": [
    "print( type(5 > 2) )"
   ]
  },
  {
   "cell_type": "code",
   "execution_count": 10,
   "id": "2698ac4c",
   "metadata": {},
   "outputs": [
    {
     "name": "stdout",
     "output_type": "stream",
     "text": [
      "False\n",
      "True\n"
     ]
    }
   ],
   "source": [
    "x = 2.5\n",
    "y = 1.7\n",
    "print( x <= y)\n",
    "print( x >= 0.333333)"
   ]
  },
  {
   "cell_type": "code",
   "execution_count": 11,
   "id": "fa4735c6",
   "metadata": {
    "slideshow": {
     "slide_type": "slide"
    }
   },
   "outputs": [
    {
     "name": "stdout",
     "output_type": "stream",
     "text": [
      "False\n"
     ]
    }
   ],
   "source": [
    "# Python is case-sensitive\n",
    "print('cat' == 'CAT')"
   ]
  },
  {
   "cell_type": "code",
   "execution_count": 12,
   "id": "45fdc3cc",
   "metadata": {},
   "outputs": [
    {
     "name": "stdout",
     "output_type": "stream",
     "text": [
      "True\n"
     ]
    }
   ],
   "source": [
    "animal = \"dog\"\n",
    "result = \"DOG\" != animal\n",
    "print(result)"
   ]
  },
  {
   "cell_type": "markdown",
   "id": "551de352",
   "metadata": {
    "slideshow": {
     "slide_type": "slide"
    }
   },
   "source": [
    "**Additional Resources**\n",
    "\n",
    "* Naming and Using Variables, Page 55, Python Crash course 3RD EDITION, by Eric Matthes, ISBN-13: 978-1-7185-0271-0 (ebook)\n",
    "\n"
   ]
  }
 ],
 "metadata": {
  "celltoolbar": "Slideshow",
  "kernelspec": {
   "display_name": "Python 3 (ipykernel)",
   "language": "python",
   "name": "python3"
  },
  "language_info": {
   "codemirror_mode": {
    "name": "ipython",
    "version": 3
   },
   "file_extension": ".py",
   "mimetype": "text/x-python",
   "name": "python",
   "nbconvert_exporter": "python",
   "pygments_lexer": "ipython3",
   "version": "3.11.4"
  }
 },
 "nbformat": 4,
 "nbformat_minor": 5
}
