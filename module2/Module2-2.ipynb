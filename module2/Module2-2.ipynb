{
 "cells": [
  {
   "cell_type": "markdown",
   "id": "265529dd",
   "metadata": {
    "slideshow": {
     "slide_type": "slide"
    }
   },
   "source": [
    "# CSCI1360 - Module 2.2\n",
    "\n",
    "## Introduction to Python\n",
    "\n",
    "### Overview and Objectives"
   ]
  },
  {
   "cell_type": "markdown",
   "id": "e3e07eed",
   "metadata": {},
   "source": [
    "- Understand variables usage and their types\n",
    "- Learn naming restrictions in Python\n",
    "- Learn how to cast between data types"
   ]
  },
  {
   "cell_type": "markdown",
   "id": "4c0edf0b",
   "metadata": {
    "slideshow": {
     "slide_type": "slide"
    }
   },
   "source": [
    "### Variables\n",
    "\n",
    "- A variable is a name for a memory area used to store some value\n",
    "\n",
    "- Values stored in variables could vary in their date types\n",
    "\n",
    "- Data types: Integer, Float, String\n",
    "\n",
    "***Examples***\n",
    "\n",
    "`grade = 95`\n",
    "\n",
    "`pi = 3.14159265`\n",
    "\n",
    "`first_name = 'John'`"
   ]
  },
  {
   "cell_type": "markdown",
   "id": "85fdd580",
   "metadata": {
    "slideshow": {
     "slide_type": "slide"
    }
   },
   "source": [
    "Variables can store the result of an arithmetic operation\n",
    "\n",
    "**Example**"
   ]
  },
  {
   "cell_type": "code",
   "execution_count": 1,
   "id": "1dcac9c2",
   "metadata": {},
   "outputs": [
    {
     "name": "stdout",
     "output_type": "stream",
     "text": [
      "6\n",
      "3\n",
      "2.0\n"
     ]
    }
   ],
   "source": [
    "# Storeing the result of an arithmetic operation in variable x\n",
    "x = 2 * 3\n",
    "\n",
    "# Assign 3 to y\n",
    "y = 3\n",
    "\n",
    "# Divide x by y and store the result in z\n",
    "z = x / y\n",
    "\n",
    "# Now lets print the values\n",
    "print(x)\n",
    "print(y)\n",
    "print(z)"
   ]
  },
  {
   "cell_type": "markdown",
   "id": "3919eb9b",
   "metadata": {
    "slideshow": {
     "slide_type": "slide"
    }
   },
   "source": [
    "**More Examples**"
   ]
  },
  {
   "cell_type": "code",
   "execution_count": 2,
   "id": "e41be4de",
   "metadata": {
    "slideshow": {
     "slide_type": "-"
    }
   },
   "outputs": [],
   "source": [
    "# More examples\n",
    "# Adding 2 to a variable value then store the result in x \n",
    "x = y + 2\n",
    "\n",
    "# Incrementing y by 1\n",
    "y = y + 1\n",
    "\n",
    "# Another way to increment y by 1\n",
    "y += 1\n",
    "\n",
    "# Decrement z by 2\n",
    "z -= 2\n"
   ]
  },
  {
   "cell_type": "code",
   "execution_count": 3,
   "id": "109ee200",
   "metadata": {
    "slideshow": {
     "slide_type": "slide"
    }
   },
   "outputs": [
    {
     "name": "stdout",
     "output_type": "stream",
     "text": [
      "5 5 0.0\n",
      "5 * 5 * 0.0\n"
     ]
    }
   ],
   "source": [
    "# Another way to print multiple values\n",
    "print(x, y, z)\n",
    "\n",
    "# Using print to format the output\n",
    "separator = '*'\n",
    "print(x, separator, y, separator, z)"
   ]
  },
  {
   "cell_type": "markdown",
   "id": "23057b27",
   "metadata": {
    "slideshow": {
     "slide_type": "slide"
    }
   },
   "source": [
    "**The String Data Type**\n",
    "\n",
    "In Python, a string is a sequence of characters enclosed within either single quotes (' ') or double quotes (\" \")\n",
    "\n",
    "**Example**"
   ]
  },
  {
   "cell_type": "code",
   "execution_count": 4,
   "id": "75837eaa",
   "metadata": {},
   "outputs": [
    {
     "name": "stdout",
     "output_type": "stream",
     "text": [
      "The first name is:\n",
      "John\n"
     ]
    }
   ],
   "source": [
    "# Directly use a string value as an input in the print function\n",
    "print('The first name is:')\n",
    "\n",
    "# Using the variable as an input for print\n",
    "first_name = 'John'\n",
    "print(first_name)\n"
   ]
  },
  {
   "cell_type": "markdown",
   "id": "bbebb4f3",
   "metadata": {
    "slideshow": {
     "slide_type": "slide"
    }
   },
   "source": [
    "**More String Examples**"
   ]
  },
  {
   "cell_type": "code",
   "execution_count": 5,
   "id": "19750f35",
   "metadata": {},
   "outputs": [
    {
     "name": "stdout",
     "output_type": "stream",
     "text": [
      "John\n",
      "Smith\n",
      "John Smith\n"
     ]
    }
   ],
   "source": [
    "# A string of multipel words\n",
    "full_name = 'John Smith'\n",
    "\n",
    "# Concatenating multiple string values\n",
    "full_name = 'John' + ' ' + 'Smith'\n",
    "\n",
    "# Using douple quotes\n",
    "last_name = \"Smith\"\n",
    "\n",
    "# Concatenation using variables and literals\n",
    "full_name = first_name + ' ' + last_name\n",
    "\n",
    "print(first_name)\n",
    "print(last_name)\n",
    "print(full_name)"
   ]
  },
  {
   "cell_type": "markdown",
   "id": "70b3ed0b",
   "metadata": {
    "slideshow": {
     "slide_type": "slide"
    }
   },
   "source": [
    "## The `type()` Function\n",
    "\n",
    "- Returns the data type of the input\n",
    "- Does not pass the returned result to the output screen\n",
    "\n",
    "**Examples**"
   ]
  },
  {
   "cell_type": "code",
   "execution_count": 6,
   "id": "e624124b",
   "metadata": {},
   "outputs": [
    {
     "name": "stdout",
     "output_type": "stream",
     "text": [
      "<class 'int'>\n",
      "<class 'float'>\n",
      "<class 'str'>\n",
      "<class 'str'>\n"
     ]
    }
   ],
   "source": [
    "# Does not print anything\n",
    "type(1)\n",
    "\n",
    "# Showing output starts here\n",
    "print( type(1) )\n",
    "print( type(5.0) )\n",
    "print( type('John') )\n",
    "print( type('5.0') )\n"
   ]
  },
  {
   "cell_type": "markdown",
   "id": "21fc242e",
   "metadata": {},
   "source": [
    "Notice the difference between the types in `type( 5.0 )` and `type('5.0' )`"
   ]
  },
  {
   "cell_type": "markdown",
   "id": "fc07cfd3",
   "metadata": {
    "slideshow": {
     "slide_type": "slide"
    }
   },
   "source": [
    "**What happens when combining different data types in one operation**\n",
    "\n",
    "`print(5 + 7.5)`\n",
    "\n",
    "`print(\"5\" + 7.5)`"
   ]
  },
  {
   "cell_type": "markdown",
   "id": "a5624458",
   "metadata": {
    "slideshow": {
     "slide_type": "slide"
    }
   },
   "source": [
    "### dynamic typing"
   ]
  },
  {
   "cell_type": "markdown",
   "id": "81436daa",
   "metadata": {
    "slideshow": {
     "slide_type": "slide"
    }
   },
   "source": [
    "### casting"
   ]
  },
  {
   "cell_type": "code",
   "execution_count": 7,
   "id": "b75536e8",
   "metadata": {
    "slideshow": {
     "slide_type": "slide"
    }
   },
   "outputs": [],
   "source": [
    "### naming conventions"
   ]
  }
 ],
 "metadata": {
  "celltoolbar": "Slideshow",
  "kernelspec": {
   "display_name": "Python 3 (ipykernel)",
   "language": "python",
   "name": "python3"
  },
  "language_info": {
   "codemirror_mode": {
    "name": "ipython",
    "version": 3
   },
   "file_extension": ".py",
   "mimetype": "text/x-python",
   "name": "python",
   "nbconvert_exporter": "python",
   "pygments_lexer": "ipython3",
   "version": "3.11.4"
  }
 },
 "nbformat": 4,
 "nbformat_minor": 5
}
