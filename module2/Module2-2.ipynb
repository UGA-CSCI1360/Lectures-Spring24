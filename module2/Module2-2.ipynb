{
 "cells": [
  {
   "cell_type": "markdown",
   "id": "265529dd",
   "metadata": {
    "slideshow": {
     "slide_type": "slide"
    }
   },
   "source": [
    "# CSCI1360 - Module 2.1\n",
    "\n",
    "## Introduction to Python\n",
    "\n",
    "### Overview and Objectives"
   ]
  },
  {
   "cell_type": "markdown",
   "id": "e3e07eed",
   "metadata": {},
   "source": [
    "- Learn variables nad types"
   ]
  }
 ],
 "metadata": {
  "celltoolbar": "Slideshow",
  "kernelspec": {
   "display_name": "Python 3 (ipykernel)",
   "language": "python",
   "name": "python3"
  },
  "language_info": {
   "codemirror_mode": {
    "name": "ipython",
    "version": 3
   },
   "file_extension": ".py",
   "mimetype": "text/x-python",
   "name": "python",
   "nbconvert_exporter": "python",
   "pygments_lexer": "ipython3",
   "version": "3.11.4"
  }
 },
 "nbformat": 4,
 "nbformat_minor": 5
}
