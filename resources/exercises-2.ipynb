{
 "cells": [
  {
   "cell_type": "markdown",
   "id": "0f6143f4",
   "metadata": {},
   "source": [
    "# CSCI1360 - Exercises 2"
   ]
  },
  {
   "cell_type": "markdown",
   "id": "3d40a789",
   "metadata": {},
   "source": [
    "## 1\n",
    "\n",
    "What is the output after running the following code?\n",
    "\n",
    "`print( (36 ** 0.5 - 4) * ( 20 % 6) ) `"
   ]
  },
  {
   "cell_type": "markdown",
   "id": "370828f6",
   "metadata": {},
   "source": [
    "## 2\n",
    "\n",
    "Write a Python function to calculate the area of a rectangle. If the width is not provided during the function call, assume that the width is 10."
   ]
  },
  {
   "cell_type": "markdown",
   "id": "6fefb636",
   "metadata": {},
   "source": [
    "## 3\n",
    "\n",
    "The code below generates some errors. Fix the code so it works correctly.\n",
    "\n",
    "```\n",
    "def add_values(a, b)\n",
    "return a + b\n",
    "\n",
    "result = add_values(\"5\", 10)\n",
    "```"
   ]
  },
  {
   "cell_type": "markdown",
   "id": "6c326f81",
   "metadata": {},
   "source": [
    "## 4\n",
    "What is the output in the code below?\n",
    "\n",
    "```\n",
    "my_list = [1, 2, 3, 4, 5, 6, 7, 8, 9]\n",
    "res = my_list[-3:]\n",
    "print(res)\n",
    "```"
   ]
  },
  {
   "cell_type": "markdown",
   "id": "865df665",
   "metadata": {},
   "source": [
    "## 5\n",
    "\n",
    "a -Extract elements from index 2 to index 5 (inclusive) from the list above.\n",
    "b -Reverse the list."
   ]
  },
  {
   "cell_type": "markdown",
   "id": "e252947f",
   "metadata": {},
   "source": [
    "## 6\n",
    "\n",
    "What is the output in the following code snippet?\n",
    "\n",
    "```\n",
    "numbers = [5,6,7,8,9,10,11]\n",
    "sum_odd = 0\n",
    "sum_even = 0\n",
    "for num in numbers:\n",
    "    if num % 2 == 0:\n",
    "        sum_even += num\n",
    "    else:\n",
    "        sum_odd += num\n",
    "print(\"Sum of odd numbers:\", sum_odd)\n",
    "print(\"Sum of even numbers:\", sum_even)\n",
    "\n",
    "```"
   ]
  },
  {
   "cell_type": "markdown",
   "id": "3f55cca4",
   "metadata": {},
   "source": [
    "## 7 \n",
    "\n",
    "Write a Python program to count the number of lines in a text file."
   ]
  },
  {
   "cell_type": "code",
   "execution_count": null,
   "id": "cec90429",
   "metadata": {},
   "outputs": [],
   "source": []
  }
 ],
 "metadata": {
  "kernelspec": {
   "display_name": "Python 3 (ipykernel)",
   "language": "python",
   "name": "python3"
  },
  "language_info": {
   "codemirror_mode": {
    "name": "ipython",
    "version": 3
   },
   "file_extension": ".py",
   "mimetype": "text/x-python",
   "name": "python",
   "nbconvert_exporter": "python",
   "pygments_lexer": "ipython3",
   "version": "3.11.4"
  }
 },
 "nbformat": 4,
 "nbformat_minor": 5
}
