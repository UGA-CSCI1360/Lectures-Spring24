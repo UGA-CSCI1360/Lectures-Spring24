{
 "cells": [
  {
   "cell_type": "markdown",
   "metadata": {},
   "source": [
    "# CSCI 1360 - Assignment 3\n",
    "## Question 1\n",
    "\n",
    "- Total points 100\n",
    "- For each part, write your solution in the given space between the two Python comment lines: **Begin your solution** and **End your solution**.\n",
    "- Do not change the code outside the two comment lines."
   ]
  },
  {
   "cell_type": "markdown",
   "metadata": {},
   "source": [
    "### Part A (Functions), 40 points\n",
    "\n",
    "Create the function `my_func` that takes an mandatory string argument `arg1` and an optional integer argument `arg2`. The function concatenates the two values and returns the result. If `arg2` is not provided during the function call use the value 0 in the concatenation. The function should not print anything.\n",
    "\n",
    "#### Grading Rubric\n",
    "- Correct function header (10 points)\n",
    "- Correct casting (10 points)\n",
    "- Correct return (10 points)\n",
    "- Steps are documented (5 points)\n",
    "- Passes all test cases (5 points)\n"
   ]
  },
  {
   "cell_type": "code",
   "execution_count": 32,
   "metadata": {},
   "outputs": [],
   "source": [
    "\n",
    "# Begin your solution below this line\n",
    "\n",
    "def my_func(arg1, arg2 = 0):\n",
    "    return arg1 + str(arg2)\n",
    "\n",
    "# End your solution, do not change anything below this line\n",
    "\n"
   ]
  },
  {
   "cell_type": "code",
   "execution_count": 33,
   "metadata": {},
   "outputs": [],
   "source": [
    "# These assert lines help in testing your solution\n",
    "# However, the test cases used during grading are not\n",
    "# limited to the ones used below.\n",
    "\n",
    "assert my_func('321') == '3210'\n",
    "assert my_func('abc' , 20) == 'abc20'\n",
    "assert my_func(arg2 = 10, arg1 = 'aaa') == 'aaa10'\n",
    "assert my_func(arg1 = '00', arg2 = '11') == '0011'\n",
    "\n",
    "# assert my_func('abc' , 20) == 'abc20'"
   ]
  },
  {
   "cell_type": "markdown",
   "metadata": {},
   "source": [
    "### Part B (File I/O), 60 points\n",
    "\n",
    "Comma-separated values (CSV) is a text file format that uses commas to separate values. A CSV file stores tabular data (numbers and text) in plain text, where each line of the file typically represents one data record. [Read more on Wikipedia](https://en.wikipedia.org/wiki/Comma-separated_values)\n",
    "\n",
    "You are provided with a sample of an airlines dataset that has a CSV format in a file named [Airline_Dataset.csv](Airline_Dataset.csv), originally downloaded from [Kaggle](https://www.kaggle.com/datasets/iamsouravbanerjee/airline-dataset/). You need to create a function that takes one keyword argument named `path`. The argument represents the path to the dataset file. your function should perform the following:\n",
    "\n",
    "- The function should have the name `mean_age`.\n",
    "- Read the file, line by line. Each line represents information about a passenger. Remember to skip the first line since it contains the column names.\n",
    "- Find the mean passengers' age by transforming each line's content into a structured format. You can perform that using the split function ( [Read more about split](https://docs.python.org/3/library/stdtypes.html#str.split) ). The split function returns a list of a string parts. Remember, values in the file are separated by commas.\n",
    "- Make your function return the mean value. Printing the value only does not fulfil this requirement.\n",
    "- Make your function robust to errors. Thus, when an error happens, print a message and return `0`.\n",
    "\n",
    "#### Grading Rubric\n",
    "\n",
    "- Function header (10 points)\n",
    "- Robust to errors  (20 points)\n",
    "- Correct file read (20 points)\n",
    "- Correct split (10 points)\n",
    "- Correct return value (10 points)\n",
    "- Passes test cases (10 points)\n"
   ]
  },
  {
   "cell_type": "code",
   "execution_count": 1,
   "metadata": {},
   "outputs": [],
   "source": [
    "# Begin your solution below this line\n",
    "\n",
    "def mean_age(path):\n",
    "    try:\n",
    "        total = 0\n",
    "        with open(path, 'r') as f:\n",
    "            lines = f.readlines()\n",
    "            for i, line in enumerate( lines):\n",
    "                if i == 0:\n",
    "                    continue\n",
    "                splits = line.strip().split(',')\n",
    "                total += float(splits[4])\n",
    "            return total / (len(lines) - 1)\n",
    "    except Exception as e:\n",
    "        print( str(e) )\n",
    "        return 0\n",
    "\n",
    "\n",
    "# End your solution, do not change anything below this line"
   ]
  },
  {
   "cell_type": "code",
   "execution_count": 2,
   "metadata": {},
   "outputs": [
    {
     "name": "stdout",
     "output_type": "stream",
     "text": [
      "[Errno 2] No such file or directory: 'Airline_Dataset.csvv'\n"
     ]
    }
   ],
   "source": [
    "# These assert lines help in testing your solution\n",
    "# However, the test cases used during grading are not\n",
    "# limited to the ones used below.\n",
    "\n",
    "# test case 1\n",
    "result = mean_age('Airline_Dataset.csv')\n",
    "difference = abs( 43.42857142857143 - result)\n",
    "assert difference < 0.01\n",
    "\n",
    "# test case 2\n",
    "result = mean_age('Airline_Dataset.csvv')\n",
    "assert result == 0\n"
   ]
  },
  {
   "cell_type": "markdown",
   "metadata": {},
   "source": [
    "### Part C (Numpy), 25 points (BONUS)\n",
    "\n",
    "Create a function named `lstsqroot`, that takes as an input a list and uses Numpy to find the square root for every value in the list. The function should return a list of the square root values.\n",
    "\n",
    "#### Grading Rubric\n",
    "\n",
    "- Correct import (5 points)\n",
    "- Correct function header (5 points)\n",
    "- Correct Numpy use (10 points)\n",
    "- Correct return (5 points)\n"
   ]
  },
  {
   "cell_type": "code",
   "execution_count": 3,
   "metadata": {},
   "outputs": [],
   "source": [
    "# Begin your solution below this line\n",
    "\n",
    "import numpy as np\n",
    "def lstsqroot(l):\n",
    "    result = np.array(l) ** 0.5\n",
    "    return result.tolist()\n",
    "\n",
    "# End your solution, do not change anything below this line\n"
   ]
  },
  {
   "cell_type": "code",
   "execution_count": 4,
   "metadata": {},
   "outputs": [],
   "source": [
    "# These assert lines help in testing your solution\n",
    "# However, the test cases used during grading are not\n",
    "# limited to the ones used below.\n",
    "\n",
    "assert lstsqroot( [16,9,1] ) == [4,3,1]\n",
    "assert lstsqroot( [] ) == []"
   ]
  },
  {
   "cell_type": "code",
   "execution_count": null,
   "metadata": {},
   "outputs": [],
   "source": []
  }
 ],
 "metadata": {
  "kernelspec": {
   "display_name": "Python 3 (ipykernel)",
   "language": "python",
   "name": "python3"
  },
  "language_info": {
   "codemirror_mode": {
    "name": "ipython",
    "version": 3
   },
   "file_extension": ".py",
   "mimetype": "text/x-python",
   "name": "python",
   "nbconvert_exporter": "python",
   "pygments_lexer": "ipython3",
   "version": "3.11.4"
  }
 },
 "nbformat": 4,
 "nbformat_minor": 2
}
