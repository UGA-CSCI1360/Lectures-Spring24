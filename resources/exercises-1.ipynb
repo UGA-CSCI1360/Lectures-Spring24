{
 "cells": [
  {
   "attachments": {},
   "cell_type": "markdown",
   "metadata": {},
   "source": [
    "# CSCI1360 - Exercises 1"
   ]
  },
  {
   "attachments": {},
   "cell_type": "markdown",
   "metadata": {},
   "source": [
    "## Exercise 1\n",
    "Convert the following while loop to a for loop"
   ]
  },
  {
   "cell_type": "code",
   "execution_count": 3,
   "metadata": {},
   "outputs": [
    {
     "name": "stdout",
     "output_type": "stream",
     "text": [
      "1\n",
      "2\n",
      "3\n",
      "4\n",
      "5\n",
      "6\n",
      "7\n",
      "8\n",
      "9\n",
      "10\n"
     ]
    }
   ],
   "source": [
    "num = 1 \n",
    "\n",
    "while num <= 10: \n",
    "\n",
    "    print(num) \n",
    "\n",
    "    num += 1 "
   ]
  },
  {
   "attachments": {},
   "cell_type": "markdown",
   "metadata": {},
   "source": [
    "## Exercise 2\n",
    "\n",
    "Without running the code, find the output in the following Python code: "
   ]
  },
  {
   "cell_type": "code",
   "execution_count": 4,
   "metadata": {},
   "outputs": [
    {
     "name": "stdout",
     "output_type": "stream",
     "text": [
      "Sum of even numbers: 12\n",
      "Sum of odd numbers: 9\n"
     ]
    }
   ],
   "source": [
    "numbers = [1, 2, 3, 4, 5, 6] \n",
    "\n",
    "sum_even = 0 \n",
    "\n",
    "sum_odd = 0 \n",
    "\n",
    "for num in numbers: \n",
    "\n",
    "    if num % 2 == 0: \n",
    "\n",
    "        sum_even += num \n",
    "\n",
    "    else: \n",
    "\n",
    "        sum_odd += num \n",
    "\n",
    "print(\"Sum of even numbers:\", sum_even) \n",
    "\n",
    "print(\"Sum of odd numbers:\", sum_odd) "
   ]
  },
  {
   "attachments": {},
   "cell_type": "markdown",
   "metadata": {},
   "source": [
    "## Exercise 3\n",
    "\n",
    "Given a list my_list, extract sublists using slicing to achieve the following:\n",
    "\n",
    "- Extract the first 3 elements.\n",
    "- Extract the last 4 elements.\n",
    "- Extract every other element."
   ]
  },
  {
   "attachments": {},
   "cell_type": "markdown",
   "metadata": {},
   "source": [
    "## Exercise 4\n",
    "\n",
    "Positive, Negative, or Zero: Write a program that takes a number as input and prints whether it is positive, negative, or zero."
   ]
  },
  {
   "attachments": {},
   "cell_type": "markdown",
   "metadata": {},
   "source": [
    "## Exercise 5\n",
    "\n",
    "Even or Odd: Write a program that asks the user for a number and prints whether it's even or odd."
   ]
  },
  {
   "attachments": {},
   "cell_type": "markdown",
   "metadata": {},
   "source": [
    "## Exercise 6\n",
    "\n",
    "Factorial: Write a program that calculates the factorial of a given number."
   ]
  },
  {
   "attachments": {},
   "cell_type": "markdown",
   "metadata": {},
   "source": [
    "## Exercise 7\n",
    "\n",
    "Reverse String: Write a program to reverse a given string."
   ]
  },
  {
   "attachments": {},
   "cell_type": "markdown",
   "metadata": {},
   "source": [
    "## Exercise 8\n",
    "\n",
    "Write a Python program to create a dictionary using loops. The dictionary keys should be integers from 1 to 5 and their corresponding values as the square of the keys."
   ]
  },
  {
   "attachments": {},
   "cell_type": "markdown",
   "metadata": {},
   "source": []
  }
 ],
 "metadata": {
  "kernelspec": {
   "display_name": "csci1360",
   "language": "python",
   "name": "python3"
  },
  "language_info": {
   "codemirror_mode": {
    "name": "ipython",
    "version": 3
   },
   "file_extension": ".py",
   "mimetype": "text/x-python",
   "name": "python",
   "nbconvert_exporter": "python",
   "pygments_lexer": "ipython3",
   "version": "3.11.4"
  },
  "orig_nbformat": 4
 },
 "nbformat": 4,
 "nbformat_minor": 2
}
