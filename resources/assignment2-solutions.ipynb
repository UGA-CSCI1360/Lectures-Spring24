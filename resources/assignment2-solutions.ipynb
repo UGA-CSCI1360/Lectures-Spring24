{
 "cells": [
  {
   "cell_type": "markdown",
   "metadata": {},
   "source": [
    "# CSCI 1360 - Assignment 2\n",
    "## Question 1\n",
    "\n",
    "- Total points 100\n",
    "- For each part, write your solution in the given space between the two Python comment lines: **Begin your solution** and **End your solution**.\n",
    "- Do not change the code outside the two comment lines."
   ]
  },
  {
   "cell_type": "markdown",
   "metadata": {},
   "source": [
    "### Part A (Looping Dictionaries), 35 points\n",
    "\n",
    "Use a `while` loop to iterate the provided dictionary below. In every iteration print the current item's key and value.\n",
    "\n",
    "```\n",
    "employee921 = {\n",
    "    \"name\": \"Kelly\",\n",
    "    \"age\": 25,\n",
    "    \"salary\": 8000,\n",
    "    \"city\": \"New york\"}\n",
    "```\n",
    "\n",
    "\n",
    "**Grading Rubric**\n",
    "- Correct `while` loop implementation.\n",
    "- Keys and values are printed."
   ]
  },
  {
   "cell_type": "code",
   "execution_count": 1,
   "metadata": {},
   "outputs": [
    {
     "name": "stdout",
     "output_type": "stream",
     "text": [
      "name Kelly\n",
      "age 25\n",
      "salary 8000\n",
      "city New york\n"
     ]
    }
   ],
   "source": [
    "employee921 = {\n",
    "    \"name\": \"Kelly\",\n",
    "    \"age\": 25,\n",
    "    \"salary\": 8000,\n",
    "    \"city\": \"New york\"}\n",
    "\n",
    "# Begin your solution below this line\n",
    "\n",
    "counter = 0\n",
    "dict_keys = list( employee921.keys() )\n",
    "while counter < len( employee921.keys() ):\n",
    "    print( dict_keys[counter] , employee921[ dict_keys[counter] ] )\n",
    "    counter += 1\n",
    "\n",
    "# End your solution, do not change anything below this line"
   ]
  },
  {
   "cell_type": "markdown",
   "metadata": {},
   "source": [
    "### Part B (Indentation & if & While), 35 points\n",
    "\n",
    "Fix the below code to make `total` variable hold the summation of the odd numbers in the following list. The list holds these values `[30, 39, 48, 57, 66]`.\n",
    "\n",
    "```\n",
    "i = 0\n",
    "total = 0\n",
    "while l[i] != 66:\n",
    "if i % 2 == 1:\n",
    "total = total + l[i]\n",
    "i += 1\n",
    "print(total)\n",
    "```\n",
    "\n",
    "A list comprehension is provided for you to generate the numbers in the list. You should not  rewrite the code that declares the list. Only rewriting the above code with the fixes is needed.\n",
    "\n",
    "#### Grading Rubric\n",
    "- Partial points for each fix."
   ]
  },
  {
   "cell_type": "code",
   "execution_count": 2,
   "metadata": {},
   "outputs": [
    {
     "name": "stdout",
     "output_type": "stream",
     "text": [
      "96\n"
     ]
    }
   ],
   "source": [
    "l = [i * 3 for i in range(10, 26, 3)]\n",
    "\n",
    "\n",
    "# Begin your solution below this line\n",
    "\n",
    "i = 0\n",
    "total = 0\n",
    "while l[i] != 66:\n",
    "    if i % 2 == 1:\n",
    "        total = total + l[i]\n",
    "    i += 1\n",
    "print(total)\n",
    "\n",
    "# End your solution, do not change anything below this line\n",
    "\n",
    "# This assert lines helps in testing your solution\n",
    "# if it generates an error then your solution is not correct\n",
    "assert total == 96"
   ]
  },
  {
   "cell_type": "markdown",
   "metadata": {},
   "source": [
    "### Part C (Exception Handling), 30 points\n",
    "\n",
    "A list of stock ticker symbols are stored in the variable `stocks` as appears in the provided code below. Following that, there are a few lines that generate Python errors.\n",
    "\n",
    "Write the necessary exception handling code to handle the `IndexError` generated. Additionally, add the necessary lines to handle any other error that could occur. Print a message of your choice when handling the errors.\n",
    "\n",
    "The following two lines should remain as a part of the solution.\n",
    "\n",
    "```\n",
    "print( stocks[3] )\n",
    "print(apple_stock)\n",
    "```\n",
    "\n",
    "\n",
    "**Grading Rubric**\n",
    "- The solution handles the `IndexError` error.\n",
    "- The solution handles any other error."
   ]
  },
  {
   "cell_type": "code",
   "execution_count": 3,
   "metadata": {},
   "outputs": [
    {
     "name": "stdout",
     "output_type": "stream",
     "text": [
      "IndexError\n"
     ]
    }
   ],
   "source": [
    "stocks = ['AAPL', 'AMZN', 'GOOG']\n",
    "\n",
    "# Begin your solution below this line\n",
    "\n",
    "try:\n",
    "\n",
    "    print( stocks[100] )\n",
    "    print(apple_stock)\n",
    "\n",
    "except IndexError:\n",
    "    print('IndexError')\n",
    "except:\n",
    "    print('Some other error')\n",
    "\n",
    "\n",
    "# End your solution, do not change anything below this line"
   ]
  }
 ],
 "metadata": {
  "kernelspec": {
   "display_name": "Python 3 (ipykernel)",
   "language": "python",
   "name": "python3"
  },
  "language_info": {
   "codemirror_mode": {
    "name": "ipython",
    "version": 3
   },
   "file_extension": ".py",
   "mimetype": "text/x-python",
   "name": "python",
   "nbconvert_exporter": "python",
   "pygments_lexer": "ipython3",
   "version": "3.11.4"
  }
 },
 "nbformat": 4,
 "nbformat_minor": 2
}
