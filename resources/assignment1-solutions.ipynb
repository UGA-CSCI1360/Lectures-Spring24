{
 "cells": [
  {
   "cell_type": "markdown",
   "metadata": {},
   "source": [
    "# CSCI 1360 - Assignment 1\n",
    "## Question 1\n",
    "\n",
    "- Total points 100\n",
    "- For each part, write your solution in the given space between the two Python comment lines: **Begin your solution** and **End your solution**.\n",
    "- Do not change the code outside the two comment lines."
   ]
  },
  {
   "cell_type": "markdown",
   "metadata": {},
   "source": [
    "### Part A (Arithmetic Operations), 35 points\n",
    "\n",
    "Write the following formulas as Python code in the given space below. You may depend on the given variable values and the shown output to test your solution. Thus, for the given example of *x*, *y*, *a* and *b*, then *z* should be 128.5 and *c* is 80.\n",
    "\n",
    "$$ z = x^7 - \\sqrt{y} + 3.5 $$\n",
    "\n",
    "$$ c = a^4 - (b + 12)^2 $$\n",
    "\n",
    "\n",
    "**Grading Rubric**\n",
    "- The formulas give the expected value. (17.5 points for each formula)"
   ]
  },
  {
   "cell_type": "code",
   "execution_count": 1,
   "metadata": {},
   "outputs": [
    {
     "name": "stdout",
     "output_type": "stream",
     "text": [
      "128.5\n",
      "80\n"
     ]
    }
   ],
   "source": [
    "x = 2 \n",
    "y = 9\n",
    "a = 3\n",
    "b = -13\n",
    "\n",
    "# Begin your solution below this line\n",
    "\n",
    "z = x ** 7 - y ** 0.5 + 3.5\n",
    "c = a ** 4 - (b + 12) ** 2\n",
    "\n",
    "# End your solution, do not change anything below this line\n",
    "\n",
    "print(z)\n",
    "print(c)"
   ]
  },
  {
   "cell_type": "code",
   "execution_count": 2,
   "metadata": {},
   "outputs": [],
   "source": [
    "# Solution testing\n",
    "assert z == 128.5\n",
    "assert c == 80"
   ]
  },
  {
   "cell_type": "markdown",
   "metadata": {},
   "source": [
    "### Part B (Casting and String Formatting), 35 points\n",
    "\n",
    "In this question you will perform casting between data types and format the output string. The ouput consists of multiple words and numerical facts about a country as appears in the given example below. Some values are stored in variables that need to be concatenated with other strings to form the expected output as appears below.\n",
    "\n",
    "> Total England area is 132900 square mile, with population density of 425.0564334085779 per square mile.\n",
    "\n",
    "- Your solution should print the country name retreived from the given `country_name` variable, the area retrieved from the given `area` variable, and the computed density.\n",
    "- The density value should be calculated using the given variables `area` and  `population`.\n",
    "- The `population` variable should remain as a string variable.\n",
    "- The final output should be stored in the variable called `output`.\n",
    "- Your solution should not be hard coded. In other words, you cannot copy the expected output and paste it in the output variable.\n",
    "- Your solution will be tested using a different county information.\n",
    "- You should document your steps using comments.\n",
    "- The computed density value should be close to the given one in the example within 2 decimals.\n",
    "\n",
    "**Grading Rubric**\n",
    "- Correct casting. (15 points)\n",
    "- Correct arithmetic operation. (15 points)\n",
    "- Steps are documented. (5 points)"
   ]
  },
  {
   "cell_type": "code",
   "execution_count": 3,
   "metadata": {},
   "outputs": [
    {
     "name": "stdout",
     "output_type": "stream",
     "text": [
      "Total England area is 132900 square mile, with population density of 425.0564334085779 per square mile.\n"
     ]
    }
   ],
   "source": [
    "country_name = 'England'\n",
    "area = 132_900\n",
    "population = '56_490_000'\n",
    "output = None\n",
    "density = None\n",
    "\n",
    "# Begin your solution below this line\n",
    "\n",
    "# cast population then divide\n",
    "density = float(population) / area\n",
    "\n",
    "# cast to string\n",
    "density = str(density)\n",
    "area = str(area)\n",
    "\n",
    "# concatenate\n",
    "output = 'Total ' + country_name + ' area is ' + area + ' square mile, with population density of ' + density + ' per square mile.'\n",
    "\n",
    "# End your solution, do not change anything below this line\n",
    "\n",
    "print(output)"
   ]
  },
  {
   "cell_type": "code",
   "execution_count": 4,
   "metadata": {},
   "outputs": [],
   "source": [
    "# Solution testing\n",
    "assert output == 'Total England area is 132900 square mile, with population density of 425.0564334085779 per square mile.'"
   ]
  },
  {
   "cell_type": "markdown",
   "metadata": {},
   "source": [
    "### Part C (Lists and Sets), 30 points\n",
    "\n",
    "In a car dealership database, there is a list of all the cars they have in their inventory, the list name is cars as appears in the provided code below. Each car is represented in the list using its brand name, thus, each brand may appear several times in the list.\n",
    "\n",
    "Part of the cars are already sold, that is the sequence of cars from the **third** to the **twentieth**, inclusive.\n",
    "\n",
    "The following information needs to be found in this database:\n",
    "\n",
    "- Print the brand name of the vehicle that resides exactly in the middle of the list. Your solution should be valid for list changes, knowing that the size of the list will be always an odd number. Hint: `len()` gives the list length.\n",
    "\n",
    "- The number of distinct car brands in the sold cars list. Knowing that the list may contain several items that have the same brand.\n",
    "\n",
    "**Grading Rubric**\n",
    "- The brand in the middle. (20 points)\n",
    "- The number of distinct car brands in the sold cars list. (20 points)\n",
    "- Steps are documented (10 points)"
   ]
  },
  {
   "cell_type": "code",
   "execution_count": 5,
   "metadata": {},
   "outputs": [
    {
     "name": "stdout",
     "output_type": "stream",
     "text": [
      "Rivian\n",
      "{'Kia', 'Toyota', 'Audi', 'Jeep', 'Acura', 'Mazda', 'Mitsubishi'}\n"
     ]
    }
   ],
   "source": [
    "cars = ['Honda','Dodge','Toyota','Mazda','Audi','Mitsubishi','Acura','Acura','Mazda','Jeep','Kia','Toyota','Kia','Mitsubishi','Audi','Kia','Toyota','Acura','Mitsubishi','Toyota','Tesla','Dodge','Honda','Audi','Tesla','Mitsubishi','Audi','Mazda','Mazda','Honda','Toyota','Toyota','Mazda','Kia','Tesla','Toyota','Mitsubishi','Kia','Tesla','Dodge','Tesla','Mazda','Jeep','Kia','Acura','Honda','Rivian','Toyota','Honda','Honda','Rivian','Rivian','Mazda','Rivian','Kia','Acura','Toyota','Acura','Kia','Toyota','Rivian','Mitsubishi','Toyota','Toyota','Tesla','Kia','Jeep','Mazda','Acura','Mazda','Mitsubishi','Honda','Dodge','Jeep','Audi','Acura','Honda','Kia','Tesla','Jeep','Toyota','Tesla','Mazda','Honda','Tesla','Audi','Tesla','Jeep','Acura','Mazda','Honda','Tesla','Jeep','Mitsubishi','Rivian','Honda','Mitsubishi','Toyota','Mitsubishi','Dodge','Dodge',]\n",
    "\n",
    "# Begin your solution below this line\n",
    "\n",
    "# to find the exact middle index\n",
    "middle_index = len(cars) // 2\n",
    "print( cars[middle_index] )\n",
    "\n",
    "# slice the third to the twentieth, inclusive.\n",
    "sub_list = cars[2:20]\n",
    "\n",
    "# remove duplicates\n",
    "sub_list_set = set(sub_list)\n",
    "print(sub_list_set)\n",
    "\n",
    "# End your solution, do not change anything below this line\n"
   ]
  },
  {
   "cell_type": "code",
   "execution_count": null,
   "metadata": {},
   "outputs": [],
   "source": []
  }
 ],
 "metadata": {
  "kernelspec": {
   "display_name": "Python 3 (ipykernel)",
   "language": "python",
   "name": "python3"
  },
  "language_info": {
   "codemirror_mode": {
    "name": "ipython",
    "version": 3
   },
   "file_extension": ".py",
   "mimetype": "text/x-python",
   "name": "python",
   "nbconvert_exporter": "python",
   "pygments_lexer": "ipython3",
   "version": "3.11.4"
  }
 },
 "nbformat": 4,
 "nbformat_minor": 2
}
